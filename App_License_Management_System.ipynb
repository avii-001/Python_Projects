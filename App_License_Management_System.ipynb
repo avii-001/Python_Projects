{
  "nbformat": 4,
  "nbformat_minor": 0,
  "metadata": {
    "colab": {
      "provenance": [],
      "authorship_tag": "ABX9TyOLuPOS4It5EsgIaYhZJGxM",
      "include_colab_link": true
    },
    "kernelspec": {
      "name": "python3",
      "display_name": "Python 3"
    },
    "language_info": {
      "name": "python"
    }
  },
  "cells": [
    {
      "cell_type": "markdown",
      "metadata": {
        "id": "view-in-github",
        "colab_type": "text"
      },
      "source": [
        "<a href=\"https://colab.research.google.com/github/avii-001/Python_Projects/blob/main/App_License_Management_System.ipynb\" target=\"_parent\"><img src=\"https://colab.research.google.com/assets/colab-badge.svg\" alt=\"Open In Colab\"/></a>"
      ]
    },
    {
      "cell_type": "code",
      "execution_count": null,
      "metadata": {
        "id": "r-x8DEOlFWn2"
      },
      "outputs": [],
      "source": [
        "# License Management System: OOP Homework Question\n",
        "# Scenario: License Management System\n",
        "# Imagine you are building a system to manage software licenses for an organization. Each license\n",
        "# is associated with a software product, and the organization needs to keep track of available, used,\n",
        "# and expired licenses.\n",
        "# Homework Requirements\n",
        "\n",
        "# 1. Create a class License to represent an individual software license.\n",
        "# o Attributes:\n",
        "#  Product Name: Name of the software product (e.g., Microsoft Office,\n",
        "# Photoshop).\n",
        "#  License Key: Unique key for the license.\n",
        "#  Status: Status of the license (e.g., Active, Expired, Used).\n",
        "#  Expiry Date: Expiry date of the license.\n",
        "\n",
        "# o Methods:\n",
        "#  __str__: To display license details in a readable format.\n",
        "\n",
        "# 2. Create a class LicenseManager to manage multiple licenses.\n",
        "# o Methods:\n",
        "#  Add License: Add a new license to the system.\n",
        "#  View Licenses: Display all licenses.\n",
        "#  Filter by Status: Display licenses based on their status (Active, Expired,\n",
        "# Used).\n",
        "#  Count Licenses: Count the number of licenses for each product.\n",
        "\n",
        "# 3. Instructions for Students:\n",
        "# o Use OOP principles to build the solution.\n",
        "# o Implement methods inside classes for modularity.\n",
        "# o Use f-strings for output formatting.\n",
        "# o Avoid exception handling for simplicity.\n",
        "\n",
        "# Sample Questions\n",
        "# Question 1:\n",
        "# Write a Python program to implement the License Management System as described. Add at\n",
        "# least 5 licenses and demonstrate the following:\n",
        "# 1. View all licenses in the system.\n",
        "# 2. Display all licenses with the status \"Active\".\n",
        "# 3. Count and display the number of licenses for each product.\n",
        "\n",
        "# Question 2:\n",
        "# Extend the system to handle license expiry:\n",
        "# 1. Add a method to check whether a license is expired (based on the expiry date).\n",
        "# 2. Display only the expired licenses.\n",
        "# 3. Demonstrate the new feature with sample data.\n",
        "\n",
        "# Learning Outcomes:\n",
        "#  Practice designing real-world systems using OOP.\n",
        "#  Understand the importance of encapsulation and modular design.\n",
        "#  Develop a deeper understanding of using class methods for functionality."
      ]
    },
    {
      "cell_type": "code",
      "source": [
        "# 1. Create a class License to represent an individual software license.\n",
        "# o Attributes:\n",
        "#  Product Name: Name of the software product (e.g., Microsoft Office,\n",
        "# Photoshop).\n",
        "#  License Key: Unique key for the license.\n",
        "#  Status: Status of the license (e.g., Active, Expired, Used).\n",
        "#  Expiry Date: Expiry date of the license.\n",
        "# o Methods:\n",
        "#  __str__: To display license details in a readable format.\n",
        "\n",
        "class License:\n",
        "  def __init__(self, product_name, license_key, status, expiry_date):\n",
        "        self.product_name = product_name\n",
        "        self.license_key = license_key\n",
        "        self.status = status\n",
        "        self.expiry_date = expiry_date\n",
        "\n",
        "  def __str__(self):\n",
        "    return f\"{self.product_name} | {self.license_key} | {self.status} | {self.expiry_date}\"\n",
        "\n",
        "  def check_expired(self):\n",
        "    expiry_date=date.fromisoformat(self.expiry_date)\n",
        "    today=date.today()\n",
        "    return expiry_date<today\n",
        "\n",
        "license1 = License(\"Microsoft Office\", \"5050-XYZ\", \"Active\", \"2025-12-08\")\n",
        "print(license1)"
      ],
      "metadata": {
        "colab": {
          "base_uri": "https://localhost:8080/"
        },
        "id": "WRHtEfYCFkOC",
        "outputId": "c2493d28-fbcf-48ed-a2f5-5733d23a7bfb"
      },
      "execution_count": null,
      "outputs": [
        {
          "output_type": "stream",
          "name": "stdout",
          "text": [
            "Microsoft Office | 5050-XYZ | Active | 2025-12-08\n"
          ]
        }
      ]
    },
    {
      "cell_type": "code",
      "source": [
        "from datetime import date\n",
        "expiry_date=\"2024-03-12\"\n",
        "expiry_date=date.fromisoformat(expiry_date)\n",
        "expiry_date"
      ],
      "metadata": {
        "colab": {
          "base_uri": "https://localhost:8080/"
        },
        "id": "1VuYF-K0fB7r",
        "outputId": "4ecb2815-0799-4409-e858-50fbe34101bd"
      },
      "execution_count": null,
      "outputs": [
        {
          "output_type": "execute_result",
          "data": {
            "text/plain": [
              "datetime.date(2024, 3, 12)"
            ]
          },
          "metadata": {},
          "execution_count": 3
        }
      ]
    },
    {
      "cell_type": "code",
      "source": [
        "# 2. Create a class LicenseManager to manage multiple licenses.\n",
        "# o Methods:\n",
        "#  Add License: Add a new license to the system.\n",
        "#  View Licenses: Display all licenses.\n",
        "#  Filter by Status: Display licenses based on their status (Active, Expired,\n",
        "# Used).\n",
        "#  Count Licenses: Count the number of licenses for each product.\n",
        "\n",
        "# Question 2:\n",
        "# Extend the system to handle license expiry:\n",
        "# 1. Add a method to check whether a license is expired (based on the expiry date).\n",
        "# 2. Display only the expired licenses.\n",
        "# 3. Demonstrate the new feature with sample data.\n",
        "\n",
        "class LicenseManager:\n",
        "  def __init__(self):\n",
        "    self.licenses=[]\n",
        "\n",
        "  def add_license(self,license):\n",
        "    self.licenses.append(license)     #parameter passed in method need not be self.(only attribute)\n",
        "\n",
        "  def view_license(self):\n",
        "    if not self.licenses:\n",
        "      print(\"No licenses\")\n",
        "    else:\n",
        "      for license in self.licenses:\n",
        "        print(license)\n",
        "\n",
        "  def filter_by_status(self,status):\n",
        "    found=[license for license in self.licenses if status.lower()==license.status.lower()]\n",
        "    if not found:\n",
        "      print(f\"No {status} licenses\")\n",
        "    else:\n",
        "      for license in found:\n",
        "        print(license)\n",
        "\n",
        "  def count_license(self):\n",
        "    count={}\n",
        "    print(\"All the available licenses\")\n",
        "    for license in self.licenses:\n",
        "      if license.product_name in count:\n",
        "        count[license.product_name]+=1\n",
        "      else:\n",
        "        count[license.product_name]=1\n",
        "    for product_name,product_count in count.items():\n",
        "      print(f\"{product_name} = {product_count}\")\n",
        "\n",
        "  def view_expired(self):\n",
        "    expired =[license for license in self.licenses if license.check_expired()]\n",
        "    if expired:\n",
        "      print(\"All expired licenses\")\n",
        "      for license in expired:\n",
        "        print(license)\n",
        "    else:\n",
        "      print(\"No expired license\")\n"
      ],
      "metadata": {
        "id": "aj4QXUdnMDsL"
      },
      "execution_count": null,
      "outputs": []
    },
    {
      "cell_type": "code",
      "source": [
        "system=LicenseManager()\n",
        "system.add_license(License(\"Adobe Premiere Pro\", \"APP-2024-ABC\", \"Active\", \"2026-05-15\"))\n",
        "system.add_license(License(\"Microsoft Visual Studio\", \"VS-2024-ABC\", \"Used\", \"2024-11-25\"))\n",
        "system.add_license(License(\"Autodesk Maya\", \"MAYA-2024-ABC\", \"Expired\", \"2023-08-30\"))\n",
        "system.add_license(License(\"Zoom Premium\", \"ZM-2024-ABC\", \"Active\", \"2025-04-10\"))\n",
        "system.add_license(License(\"Slack Professional\", \"SLACK-2024-ABC\", \"Used\", \"2024-03-12\"))\n",
        "system.add_license(License(\"Tableau Professional\", \"TB-2024-ABC\", \"Expired\", \"2023-12-01\"))\n",
        "system.add_license(License(\"Zoom Premium\", \"ZM-2024-ABC\", \"Active\", \"2025-04-10\"))"
      ],
      "metadata": {
        "id": "hiyB56htMawj"
      },
      "execution_count": null,
      "outputs": []
    },
    {
      "cell_type": "code",
      "source": [
        "system.view_license()"
      ],
      "metadata": {
        "colab": {
          "base_uri": "https://localhost:8080/"
        },
        "id": "ISB9HRCHPrLL",
        "outputId": "30106bc8-0c29-46c5-9870-9cc220ecb887"
      },
      "execution_count": null,
      "outputs": [
        {
          "output_type": "stream",
          "name": "stdout",
          "text": [
            "Adobe Premiere Pro | APP-2024-ABC | Active | 2026-05-15\n",
            "Microsoft Visual Studio | VS-2024-ABC | Used | 2024-11-25\n",
            "Autodesk Maya | MAYA-2024-ABC | Expired | 2023-08-30\n",
            "Zoom Premium | ZM-2024-ABC | Active | 2025-04-10\n",
            "Slack Professional | SLACK-2024-ABC | Used | 2024-03-12\n",
            "Tableau Professional | TB-2024-ABC | Expired | 2023-12-01\n",
            "Zoom Premium | ZM-2024-ABC | Active | 2025-04-10\n"
          ]
        }
      ]
    },
    {
      "cell_type": "code",
      "source": [
        "system.filter_by_status(\"Active\")"
      ],
      "metadata": {
        "colab": {
          "base_uri": "https://localhost:8080/"
        },
        "id": "FG7-M20sQMsK",
        "outputId": "0f78d093-b281-437d-8531-2a362d04e48c"
      },
      "execution_count": null,
      "outputs": [
        {
          "output_type": "stream",
          "name": "stdout",
          "text": [
            "Adobe Premiere Pro | APP-2024-ABC | Active | 2026-05-15\n",
            "Zoom Premium | ZM-2024-ABC | Active | 2025-04-10\n",
            "Zoom Premium | ZM-2024-ABC | Active | 2025-04-10\n"
          ]
        }
      ]
    },
    {
      "cell_type": "code",
      "source": [
        "system.count_license()"
      ],
      "metadata": {
        "colab": {
          "base_uri": "https://localhost:8080/"
        },
        "id": "V1XoNmc6RsBb",
        "outputId": "89efa4d2-d413-4ead-8652-b5c6788fd33b"
      },
      "execution_count": null,
      "outputs": [
        {
          "output_type": "stream",
          "name": "stdout",
          "text": [
            "All the available licenses\n",
            "Adobe Premiere Pro = 1\n",
            "Microsoft Visual Studio = 1\n",
            "Autodesk Maya = 1\n",
            "Zoom Premium = 2\n",
            "Slack Professional = 1\n",
            "Tableau Professional = 1\n"
          ]
        }
      ]
    },
    {
      "cell_type": "code",
      "source": [
        "system.view_expired()"
      ],
      "metadata": {
        "id": "cdp79yR8Z0NC",
        "colab": {
          "base_uri": "https://localhost:8080/"
        },
        "outputId": "d2a6d1b7-fe79-470a-c81c-0944752d39a3"
      },
      "execution_count": null,
      "outputs": [
        {
          "output_type": "stream",
          "name": "stdout",
          "text": [
            "All expired licenses\n",
            "Microsoft Visual Studio | VS-2024-ABC | Used | 2024-11-25\n",
            "Autodesk Maya | MAYA-2024-ABC | Expired | 2023-08-30\n",
            "Slack Professional | SLACK-2024-ABC | Used | 2024-03-12\n",
            "Tableau Professional | TB-2024-ABC | Expired | 2023-12-01\n"
          ]
        }
      ]
    },
    {
      "cell_type": "code",
      "source": [
        "#Majja ayo!!"
      ],
      "metadata": {
        "id": "iEa3sEE0ndmZ"
      },
      "execution_count": null,
      "outputs": []
    }
  ]
}