{
  "nbformat": 4,
  "nbformat_minor": 0,
  "metadata": {
    "colab": {
      "provenance": [],
      "authorship_tag": "ABX9TyNu4IywHGaa9vlr/eoD744l",
      "include_colab_link": true
    },
    "kernelspec": {
      "name": "python3",
      "display_name": "Python 3"
    },
    "language_info": {
      "name": "python"
    }
  },
  "cells": [
    {
      "cell_type": "markdown",
      "metadata": {
        "id": "view-in-github",
        "colab_type": "text"
      },
      "source": [
        "<a href=\"https://colab.research.google.com/github/avii-001/Python_Projects/blob/main/Data_Structures_Assignment.ipynb\" target=\"_parent\"><img src=\"https://colab.research.google.com/assets/colab-badge.svg\" alt=\"Open In Colab\"/></a>"
      ]
    },
    {
      "cell_type": "code",
      "execution_count": null,
      "metadata": {
        "colab": {
          "base_uri": "https://localhost:8080/"
        },
        "id": "zBt7CqEDzUEZ",
        "outputId": "4b4547a0-a0ee-455d-eea2-cbb230071fa7"
      },
      "outputs": [
        {
          "output_type": "stream",
          "name": "stdout",
          "text": [
            "Enter the name of vegetable: tomato\n",
            "Enter new price: 160\n",
            "{'tomato': 160, 'potato': 250, 'onion': 90, 'cabbage': 60, 'cauliflower': 80}\n"
          ]
        }
      ],
      "source": [
        "# 1. Vegetable Price Tracker\n",
        "# Objective:\n",
        "# Write a program to track and update the prices of vegetables in the Nepali market.\n",
        "# Tasks:\n",
        "# 1. Create a dictionary to store the prices of 5 different vegetables.\n",
        "# 2. Implement a function called update_price to update the price of a vegetable by taking its\n",
        "# name and new price as input.\n",
        "# 3. Add a feature to display the updated prices.\n",
        "# Hints:\n",
        "#  Use a dictionary like {\"Tomato\": 80, \"Potato\": 60, ...}.\n",
        "#  Use the .update() method or direct assignment to update values.\n",
        "#  Use a loop or function to display all items and their prices.\n",
        "\n",
        "veg_dict={\"tomato\":150, \"potato\":250,\"onion\":90,\"cabbage\":60,\"cauliflower\":80}\n",
        "\n",
        "def update_price(veg):\n",
        "  new_price=int(input(\"Enter new price: \"))\n",
        "  veg_dict.update({veg:new_price})\n",
        "  # veg_dict[veg]=new_price\n",
        "  return veg_dict\n",
        "\n",
        "veg=input(\"Enter the name of vegetable: \")\n",
        "print(update_price(veg))"
      ]
    },
    {
      "cell_type": "code",
      "source": [
        "# 2. Daily Sales Report\n",
        "# Objective:\n",
        "# Create a function to generate a daily sales report for products.\n",
        "# Tasks:\n",
        "# 1. Write a function that takes a list of daily sales (number of items sold for at least 5 products).\n",
        "# 2. Calculate and return the total number of items sold and the average sales per product.\n",
        "# 3. Allow the user to input the sales data for each product for a specific day.\n",
        "# Hints:\n",
        "#  Use input() to collect sales data.\n",
        "#  Use sum() to calculate the total and divide by the number of products for the average.\n",
        "#  Return the total and average in a tuple or as a print statement.\n",
        "\n",
        "def daily_sales_report():\n",
        "  print(\"Enter Sales or '0' to stop\")\n",
        "  sales_data=[]\n",
        "  total_sales=0\n",
        "  while True:\n",
        "    amt=int(input(\"Enter amount of the product: \"))\n",
        "    if amt==0:\n",
        "      print(\"The session has ended.\")\n",
        "      break\n",
        "    elif amt>0:\n",
        "      sales_data.append(amt)\n",
        "    else:\n",
        "      print(\"Invalid entry. Please enter valid amt.\")\n",
        "  total_sales=sum(sales_data)\n",
        "  no_of_customers=len(sales_data)\n",
        "  avg_sales=total_sales/no_of_customers\n",
        "\n",
        "  print(\"\\nTotal's Summery\")\n",
        "  print(f\"Total Sale: Rs.{total_sales:.2f}\")\n",
        "  print(f\"Average Sale per product: Rs.{avg_sales:.2f}\")\n",
        "  print(f\"no_of_customers:{no_of_customers}\")\n",
        "\n",
        "daily_sales_report()"
      ],
      "metadata": {
        "colab": {
          "base_uri": "https://localhost:8080/"
        },
        "outputId": "7ea98d86-c2f8-4b8b-dfb5-1a53be02ce4b",
        "id": "sgZO2WN6bGLP"
      },
      "execution_count": null,
      "outputs": [
        {
          "output_type": "stream",
          "name": "stdout",
          "text": [
            "Enter Sales or '0' to stop\n",
            "Enter amount of the product: 200\n",
            "Enter amount of the product: 300\n",
            "Enter amount of the product: 500\n",
            "Enter amount of the product: 200\n",
            "Enter amount of the product: 20\n",
            "Enter amount of the product: 0\n",
            "The session has ended.\n",
            "\n",
            "Total's Summery\n",
            "Total Sale: Rs.1220.00\n",
            "Average Sale per product: Rs.244.00\n",
            "no_of_customers:5\n"
          ]
        }
      ]
    },
    {
      "cell_type": "code",
      "source": [
        "# 3. Shopping List Application\n",
        "# Objective:\n",
        "# Develop a program to manage a shopping list.\n",
        "# Tasks:\n",
        "# 1. Use a list to store shopping items.\n",
        "# 2. Implement functions add_item, remove_item, and view_list.\n",
        "# 3. Allow the user to input commands like add, remove, or view to interact with the list.\n",
        "# Hints:\n",
        "#  Use .append() to add items, .remove() to delete specific items, and a for loop to display\n",
        "# the list.\n",
        "#  Use a loop to keep the program running until the user decides to exit.\n",
        "\n",
        "shopping_list=[]\n",
        "\n",
        "def add_item():\n",
        "  while True:\n",
        "    print(f\"\\nEnter item or '0' to stop\")\n",
        "    userInput=input(\"Add item: \")\n",
        "    if userInput=='0':\n",
        "      print(\"Saving...\")\n",
        "      break\n",
        "    else:\n",
        "      shopping_list.append(userInput)\n",
        "      print(f\"{userInput} added successfully.\")\n",
        "\n",
        "def remove_item():\n",
        "  userInput=input(f\"\\nEnter the item's name to remove: \")\n",
        "  shopping_list.remove(userInput)\n",
        "  print(f\"{userInput} removed successfully.\")\n",
        "\n",
        "def view_list():\n",
        "  print(\"--Shopping list--\")\n",
        "  for index, item in enumerate(shopping_list):\n",
        "    print(f\"{index+1}. {item}\")\n",
        "\n",
        "\n",
        "while True:\n",
        "  print('''\n",
        "  ---Welcome to your Shopping list---\n",
        "  1. Add item\n",
        "  2. Remove item\n",
        "  3. View all items\n",
        "  4. Exit\n",
        "  ''')\n",
        "  choice=input()\n",
        "  if choice==\"1\":\n",
        "    add_item()\n",
        "  elif choice==\"2\":\n",
        "    remove_item()\n",
        "  elif choice==\"3\":\n",
        "    view_list()\n",
        "  elif choice==\"4\":\n",
        "    print(\"Session has ended\")\n",
        "    break\n",
        "  else:\n",
        "    print(\"Invalid choice. Please enter valid options.\")"
      ],
      "metadata": {
        "id": "lyVt5nBDJoou",
        "colab": {
          "base_uri": "https://localhost:8080/"
        },
        "outputId": "d6c1ac30-d9f8-4cbc-cd08-1814d192926a"
      },
      "execution_count": null,
      "outputs": [
        {
          "output_type": "stream",
          "name": "stdout",
          "text": [
            "\n",
            "  ---Welcome to your Shopping list---\n",
            "  1. Add item\n",
            "  2. Remove item\n",
            "  3. View all items\n",
            "  4. Exit\n",
            "  \n",
            "1\n",
            "\n",
            "Enter item or '0' to stop\n",
            "Add item: kitkat\n",
            "kitkat added successfully.\n",
            "\n",
            "Enter item or '0' to stop\n",
            "Add item: lays\n",
            "lays added successfully.\n",
            "\n",
            "Enter item or '0' to stop\n",
            "Add item: ramen\n",
            "ramen added successfully.\n",
            "\n",
            "Enter item or '0' to stop\n",
            "Add item: 0\n",
            "Saving...\n",
            "\n",
            "  ---Welcome to your Shopping list---\n",
            "  1. Add item\n",
            "  2. Remove item\n",
            "  3. View all items\n",
            "  4. Exit\n",
            "  \n",
            "2\n",
            "\n",
            "Enter the item's name to remove: ramen\n",
            "ramen removed successfully.\n",
            "\n",
            "  ---Welcome to your Shopping list---\n",
            "  1. Add item\n",
            "  2. Remove item\n",
            "  3. View all items\n",
            "  4. Exit\n",
            "  \n",
            "3\n",
            "--Items--\n",
            "1. kitkat\n",
            "2. lays\n",
            "\n",
            "  ---Welcome to your Shopping list---\n",
            "  1. Add item\n",
            "  2. Remove item\n",
            "  3. View all items\n",
            "  4. Exit\n",
            "  \n",
            "3\n",
            "--Items--\n",
            "1. kitkat\n",
            "2. lays\n",
            "\n",
            "  ---Welcome to your Shopping list---\n",
            "  1. Add item\n",
            "  2. Remove item\n",
            "  3. View all items\n",
            "  4. Exit\n",
            "  \n",
            "4\n",
            "Session has ended\n"
          ]
        }
      ]
    },
    {
      "cell_type": "code",
      "source": [
        "# 4. Customer Feedback System\n",
        "# Objective:\n",
        "# Build a system to collect and display feedback for different items.\n",
        "# Tasks:\n",
        "# 1. Use a dictionary to store feedback for items like fruits or vegetables.\n",
        "# 2. Create a function that takes input for item name and feedback, and stores it in the dictionary.\n",
        "# 3. Implement another function to display all feedback for each item.\n",
        "# Hints:\n",
        "#  Use a dictionary where keys are item names and values are lists of feedback.\n",
        "#  Use .append() to add feedback for an item.\n",
        "#  Use a loop to display each item and its feedback.\n",
        "\n",
        "feedbacks=[{ \"apple\":\n",
        "            [\"Crisp and refreshing, perfect for a quick snack!\",\n",
        "            \"Sweet and juicy, always a healthy choice.\",\n",
        "            \"A bit on the tart side, but still delicious.\"]\n",
        "            },\n",
        "       {\"banana\":\n",
        "        [\"Soft, sweet, and packed with energy!\",\n",
        "        \"A great addition to smoothies, super creamy.\",\n",
        "        \"Sometimes too ripe, but still tasty.\"\n",
        "        ]}\n",
        "       ]\n",
        "\n",
        "def store_feedback():\n",
        "  item_name=input(\"Item's name: \")\n",
        "  feedback=input(\"Feedback: \")\n",
        "  for feed in feedbacks:\n",
        "    if item_name in feed:\n",
        "      feed[item_name].append(feedback)\n",
        "      print(f\"Item and feedback added successfully.\")\n",
        "      return\n",
        "\n",
        "  feedbacks.append({item_name:[feedback]})\n",
        "  print(f\"Feedback added successfully.\")\n",
        "\n",
        "def show_feedback():\n",
        "  for feed in feedbacks:\n",
        "    for item,comments in feed.items():\n",
        "      print(f\"\\nFeedback for {item}\")\n",
        "      for comment in comments:\n",
        "        print(f\"- {comment}\")\n",
        "\n",
        "\n",
        "store_feedback()\n",
        "show_feedback()"
      ],
      "metadata": {
        "colab": {
          "base_uri": "https://localhost:8080/"
        },
        "id": "OjTEV6Awi3M2",
        "outputId": "c80974e3-291c-4b38-f62d-b1861a964131"
      },
      "execution_count": null,
      "outputs": [
        {
          "output_type": "stream",
          "name": "stdout",
          "text": [
            "Item's name: apple\n",
            "Feedback: sdfsdf\n",
            "Item and feedback added successfully.\n",
            "\n",
            "Feedback for apple\n",
            "- Crisp and refreshing, perfect for a quick snack!\n",
            "- Sweet and juicy, always a healthy choice.\n",
            "- A bit on the tart side, but still delicious.\n",
            "- sdfsdf\n",
            "\n",
            "Feedback for banana\n",
            "- Soft, sweet, and packed with energy!\n",
            "- A great addition to smoothies, super creamy.\n",
            "- Sometimes too ripe, but still tasty.\n"
          ]
        }
      ]
    }
  ]
}