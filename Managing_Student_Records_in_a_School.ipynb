{
  "nbformat": 4,
  "nbformat_minor": 0,
  "metadata": {
    "colab": {
      "provenance": [],
      "authorship_tag": "ABX9TyMiejBSn3LSQCM1ODMCCjub",
      "include_colab_link": true
    },
    "kernelspec": {
      "name": "python3",
      "display_name": "Python 3"
    },
    "language_info": {
      "name": "python"
    }
  },
  "cells": [
    {
      "cell_type": "markdown",
      "metadata": {
        "id": "view-in-github",
        "colab_type": "text"
      },
      "source": [
        "<a href=\"https://colab.research.google.com/github/avii-001/Python_Projects/blob/main/Managing_Student_Records_in_a_School.ipynb\" target=\"_parent\"><img src=\"https://colab.research.google.com/assets/colab-badge.svg\" alt=\"Open In Colab\"/></a>"
      ]
    },
    {
      "cell_type": "code",
      "source": [
        "# Scenario: Managing Student Records in a School\n",
        "# In this scenario, let's consider a school that needs to manage student information, including names, ages, grades, and subjects enrolled.\n",
        "# You will work with various data structures to organize, access, and analyze student records.\n",
        "# Code Questions\n",
        "# Create a list of tuples to store information for at least five students, with each tuple containing a student's name, age, and grade level.\n",
        "# Print the details for each student.\n",
        "students=[(\"Jashmine\", 16, 10),(\"Anya\", 14,7),(\"Roshni\",12,6),(\"Aryan\",16,10),(\"Bibisha\",10,5)]\n",
        "print(\"\\nStudent Records\")\n",
        "for record in students:\n",
        "  name,age,grade=record\n",
        "  print(f\"Name:{name}, Age:{age}, Grade:{grade}\")\n",
        "\n",
        "# Given a list of student tuples, extract and print a set of unique grade levels in the school.\n",
        "unique_grade=set()\n",
        "print(\"\\nUnique Grades\")\n",
        "for student in students:\n",
        "  unique_grade.add(student[2])\n",
        "print(unique_grade)\n",
        "\n",
        "\n",
        "# Define a dictionary to represent student information, where each student's name maps to another dictionary containing their age, grade level, and\n",
        "# a list of subjects they are enrolled in. Add at least four students to this dictionary.\n",
        "record={\"Jashmine\":{\"age\":16, \"grade\":10,\"subjects\":[\"Maths\",\"Science\",\"Data Science\"]},\n",
        "        \"Anya\":{\"age\":14, \"grade\":7,\"subjects\":[\"Economics\",\"Accounts\",\"HRM\"]},\n",
        "        \"Roshni\":{\"age\":12, \"grade\":6,\"subjects\":[\"Biology\",\"Maths\",\"Microbiology\"]},\n",
        "        \"Aryan\":{\"age\":16, \"grade\":10,\"subjects\":[\"History\",\"Literature\",\"Drama\"]},\n",
        "        \"Bibisha\":{\"age\":10, \"grade\":5,\"subjects\":[\"Maths\",\"Science\",\"Data Science\"]},\n",
        "        \"Prisha\": {\"age\": 11, \"grade\": 6, \"subjects\": [\"Science\", \"Coding\", \"Art\"]},\n",
        "        \"Kiran\": {\"age\": 13, \"grade\": 8, \"subjects\": [\"History\", \"Biology\", \"Robotics\"]},\n",
        "        \"Sanjay\": {\"age\": 14, \"grade\": 9, \"subjects\": [\"Chemistry\", \"Physics\", \"Computer Science\"]}}\n",
        "\n",
        "# Using the student dictionary, print each student's name along with their age and the subjects they are enrolled in using a structured format.\n",
        "print(\"\\n--Student Records--\")\n",
        "for name,info in record.items():\n",
        "  print(f\"{name}  | Age:{info['age']} |  Subjects: {', '.join(info['subjects'])}\")\n",
        "\n",
        "# Calculate and print the average age of all students stored in the list of tuples.\n",
        "sum=0\n",
        "count=0\n",
        "for student in students:\n",
        "  age=student[1]\n",
        "  sum+=age\n",
        "  count+=1\n",
        "avg=sum/count\n",
        "print(f\"\\nAverage age of all students in the list is {avg}\")\n",
        "\n",
        "# From the student dictionary, generate a list of students enrolled in a specific subject (e.g., \"Mathematics\") and print their names.\n",
        "sub=\"Maths\"\n",
        "print(f\"\\nStudents who took {sub}:\")\n",
        "for student,info in record.items():\n",
        "  if sub in info[\"subjects\"]:\n",
        "    print(student)\n",
        "\n",
        "# Update the grade level for a specified student in the dictionary, ensuring to check if the student exists before making the update.\n",
        "# Print a message indicating the outcome of the update.\n",
        "\n",
        "student_search='Aryan'\n",
        "grade=9\n",
        "\n",
        "# student_search=input(\"Enter student's name: \")\n",
        "# grade=input(\"Upgraded grade: \")\n",
        "if student_search in record:\n",
        "  for student,info in record.items():\n",
        "    if student_search==student:\n",
        "      info[\"grade\"]=grade\n",
        "      print(f\"\\nGrade for student-{student_search} has been updated to {grade}\")\n",
        "      break\n",
        "else:\n",
        "  print(f\"\\nStudent-{student_search} not found in the record.\")\n",
        "\n",
        "# Count and display the number of students in each grade level using the student dictionary, presenting the results in a nicely formatted way.\n",
        "unique_grade=set()\n",
        "for student,info in record.items():\n",
        "  unique_grade.add(info[\"grade\"])\n",
        "# print(unique_grade)\n",
        "\n",
        "students_in_each_grade={}\n",
        "for student,info in record.items():\n",
        "  grade=info['grade']\n",
        "  if grade in students_in_each_grade:\n",
        "    students_in_each_grade[grade]+=1\n",
        "  else:\n",
        "    students_in_each_grade[grade]=1\n",
        "print(f\"\\nStudents in each grade\")\n",
        "for grade, number in students_in_each_grade.items():\n",
        "  print(f\"Grade {grade} : {number} student(s)\")\n",
        "\n",
        "# Create a list of all unique subjects offered at the school using the student dictionary. Print this list in an organized manner.\n",
        "uniq_subjects=set()\n",
        "for student,info in record.items():\n",
        "  for subject in info['subjects']:\n",
        "    uniq_subjects.add(subject)\n",
        "# print(uniq_subjects)\n",
        "print(\"\\nHere are the subjects provided in school\")\n",
        "for subject in uniq_subjects:\n",
        "  print(subject)\n",
        "\n",
        "# Implement a feature to handle a student's withdrawal from a subject. Given the student's name and the subject to withdraw from,\n",
        "# update the student's subject list in the dictionary and print the updated list of subjects.\n",
        "stud_name='Kiran'\n",
        "remove_subject='History'\n",
        "print(\"\")\n",
        "if stud_name in record:\n",
        "  if remove_subject in record[stud_name]['subjects']:\n",
        "    record[stud_name]['subjects'].remove(remove_subject)\n",
        "    print(f\"{stud_name} is enrolled in {record[stud_name]['subjects']}\")\n",
        "  else:\n",
        "    print(f\"{stud_name} is not enrolled in {remove_subject}\")\n",
        "else:\n",
        "  print(f\"{stud_name} not been found in the record. \")\n"
      ],
      "metadata": {
        "id": "5yi8rxQTK0Nk",
        "colab": {
          "base_uri": "https://localhost:8080/"
        },
        "outputId": "33f557a7-f7d1-4275-efa1-5a262f9433ae"
      },
      "execution_count": null,
      "outputs": [
        {
          "output_type": "stream",
          "name": "stdout",
          "text": [
            "\n",
            "Student Records\n",
            "Name:Jashmine, Age:16, Grade:10\n",
            "Name:Anya, Age:14, Grade:7\n",
            "Name:Roshni, Age:12, Grade:6\n",
            "Name:Aryan, Age:16, Grade:10\n",
            "Name:Bibisha, Age:10, Grade:5\n",
            "\n",
            "Unique Grades\n",
            "{10, 5, 6, 7}\n",
            "\n",
            "--Student Records--\n",
            "Jashmine  | Age:16 |  Subjects: Maths, Science, Data Science\n",
            "Anya  | Age:14 |  Subjects: Economics, Accounts, HRM\n",
            "Roshni  | Age:12 |  Subjects: Biology, Maths, Microbiology\n",
            "Aryan  | Age:16 |  Subjects: History, Literature, Drama\n",
            "Bibisha  | Age:10 |  Subjects: Maths, Science, Data Science\n",
            "Prisha  | Age:11 |  Subjects: Science, Coding, Art\n",
            "Kiran  | Age:13 |  Subjects: History, Biology, Robotics\n",
            "Sanjay  | Age:14 |  Subjects: Chemistry, Physics, Computer Science\n",
            "\n",
            "Average age of all students in the list is 13.6\n",
            "\n",
            "Students who took Maths:\n",
            "Jashmine\n",
            "Roshni\n",
            "Bibisha\n",
            "\n",
            "Grade for student-Aryan has been updated to 9\n",
            "\n",
            "Students in each grade\n",
            "Grade 10 : 1 student(s)\n",
            "Grade 7 : 1 student(s)\n",
            "Grade 6 : 2 student(s)\n",
            "Grade 9 : 2 student(s)\n",
            "Grade 5 : 1 student(s)\n",
            "Grade 8 : 1 student(s)\n",
            "\n",
            "Here are the subjects provided in school\n",
            "Data Science\n",
            "Microbiology\n",
            "Coding\n",
            "History\n",
            "Biology\n",
            "Art\n",
            "Maths\n",
            "Literature\n",
            "Accounts\n",
            "Drama\n",
            "Science\n",
            "Economics\n",
            "Robotics\n",
            "Computer Science\n",
            "Chemistry\n",
            "Physics\n",
            "HRM\n",
            "\n",
            "Kiran is enrolled in ['Biology', 'Robotics']\n"
          ]
        }
      ]
    },
    {
      "cell_type": "markdown",
      "source": [
        "___________________________________________________________________________________________________________________________"
      ],
      "metadata": {
        "id": "XsDiQSsqYDIS"
      }
    },
    {
      "cell_type": "markdown",
      "source": [],
      "metadata": {
        "id": "aQ8yPp40YC36"
      }
    },
    {
      "cell_type": "markdown",
      "source": [
        "In the context of managing products in a Nepali market, consider the following questions: What types of products does the market offer, and how many are currently available? How is each product's information captured using tuples, and what advantages do tuples provide in this scenario? How can we extract and manage unique product categories using sets, and why is it beneficial to do so? Additionally, how can we structure a dictionary to represent product details effectively and how does this improve information retrieval compared to tuples? When integrating these data structures, what challenges might arise, and how can we use the insights gained from analyzing product prices and categories to improve inventory management? Finally, how can the product list be dynamically updated as new items are added or existing items are removed, ensuring that it accurately reflects the current market offerings?"
      ],
      "metadata": {
        "id": "Z5bkMgX7B7xH"
      }
    },
    {
      "cell_type": "markdown",
      "source": [
        "prodcut,price,category"
      ],
      "metadata": {
        "id": "veX4snYDCHLB"
      }
    },
    {
      "cell_type": "code",
      "source": [
        "category=set()\n",
        "product_dict={}\n",
        "product1=(\"Rice\",100,\"Grains\")\n",
        "product2=(\"Flour\",150,\"Grains\")\n",
        "product3=(\"Kurkure\",60,\"Snacks\")\n",
        "product4=(\"Dove\",250,\"Hair product\")\n",
        "product5=(\"Kurkure\",60,\"Snacks\")\n",
        "\n",
        "\n",
        "products=[product1,product2,product3,product4,product5]\n",
        "for product in products:\n",
        "  category.add(product[2])\n",
        "# print(category)\n",
        "\n",
        "for product in products:\n",
        "  new_products={\"price\":product[1],\"category\":product[2]\n",
        "  }\n",
        "  product_dict[product[0]]=new_products\n",
        "# print(new_products)\n",
        "# print(product_dict)\n",
        "\n",
        "for key,value in product_dict.items():\n",
        "  print(key,value)"
      ],
      "metadata": {
        "colab": {
          "base_uri": "https://localhost:8080/"
        },
        "id": "fcj95kj3B5uO",
        "outputId": "9146bf24-6a03-45df-d8f6-580f94abc72f"
      },
      "execution_count": null,
      "outputs": [
        {
          "output_type": "stream",
          "name": "stdout",
          "text": [
            "Rice {'price': 100, 'category': 'Grains'}\n",
            "Flour {'price': 150, 'category': 'Grains'}\n",
            "Kurkure {'price': 60, 'category': 'Snacks'}\n",
            "Dove {'price': 250, 'category': 'Hair product'}\n"
          ]
        }
      ]
    },
    {
      "cell_type": "code",
      "source": [],
      "metadata": {
        "id": "4l0rEuVFX9db"
      },
      "execution_count": null,
      "outputs": []
    }
  ]
}