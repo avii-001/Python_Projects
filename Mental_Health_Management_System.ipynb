{
  "nbformat": 4,
  "nbformat_minor": 0,
  "metadata": {
    "colab": {
      "provenance": [],
      "authorship_tag": "ABX9TyMZ+hLirWsMpH1Qg4alrTRZ",
      "include_colab_link": true
    },
    "kernelspec": {
      "name": "python3",
      "display_name": "Python 3"
    },
    "language_info": {
      "name": "python"
    }
  },
  "cells": [
    {
      "cell_type": "markdown",
      "metadata": {
        "id": "view-in-github",
        "colab_type": "text"
      },
      "source": [
        "<a href=\"https://colab.research.google.com/github/avii-001/Python_Projects/blob/main/Mental_Health_Management_System.ipynb\" target=\"_parent\"><img src=\"https://colab.research.google.com/assets/colab-badge.svg\" alt=\"Open In Colab\"/></a>"
      ]
    },
    {
      "cell_type": "code",
      "execution_count": null,
      "metadata": {
        "id": "9XVE3tl-Ahj2"
      },
      "outputs": [],
      "source": [
        "# Mental Health Management System: OOP Homework Question\n",
        "# Scenario: Mental Health Tracker\n",
        "# Mental health is a critical aspect of overall well-being. Imagine you are designing a mental\n",
        "# health tracking system that allows users to log their daily mood, activities, and hours of sleep.\n",
        "# The system provides insights based on the user's input.\n",
        "# Homework Requirements\n",
        "\n",
        "# 1. Create a class MentalHealthEntry to represent daily mental health records.\n",
        "# o Attributes:\n",
        "#  Date: The date of the entry.\n",
        "#  Mood: User's mood (e.g., Happy, Sad, Anxious, Neutral).\n",
        "#  Sleep Hours: Number of hours the user slept.\n",
        "#  Activity Level: Activity level (e.g., High, Medium, Low).\n",
        "\n",
        "# 2. Create a class MentalHealthTracker to manage multiple entries.\n",
        "# o Methods:\n",
        "#  Add Entry: Add a new mental health record.\n",
        "#  View Entries: Display all records.\n",
        "#  View by Mood: Filter and display entries with a specific mood.\n",
        "#  Calculate Average Sleep: Calculate and return the average sleep hours\n",
        "# from all entries.\n",
        "\n",
        "# 3. Instructions for Students:\n",
        "# o Use OOP principles (encapsulation, classes, objects).\n",
        "# o Use f-strings for output formatting.\n",
        "# o No exception handling is required for this task.\n",
        "\n",
        "# Sample Questions\n",
        "# Question 1:\n",
        "# Write a Python program implementing the system described above. Create at least 5 sample\n",
        "# entries and demonstrate the following:\n",
        "# 1. View all mental health entries.\n",
        "# 2. Filter and display entries with the mood \"Happy\".\n",
        "# 3. Calculate the average sleep hours.\n",
        "\n",
        "# Question 2:\n",
        "# Extend the system to analyze activity levels. Add a method in MentalHealthTracker:\n",
        "# 1. Count and display the number of entries for each activity level (High, Medium, Low).\n",
        "# 2. Demonstrate the new feature with sample data.\n",
        "\n"
      ]
    },
    {
      "cell_type": "code",
      "source": [
        "# 1. Create a class MentalHealthEntry to represent daily mental health records.\n",
        "# o Attributes:\n",
        "#  Date: The date of the entry.\n",
        "#  Mood: User's mood (e.g., Happy, Sad, Anxious, Neutral).\n",
        "#  Sleep Hours: Number of hours the user slept.\n",
        "#  Activity Level: Activity level (e.g., High, Medium, Low).\n",
        "class MentalHealthEntry:\n",
        "  def __init__(self,date,mood,sleep_hr,activity):\n",
        "    self.date=date\n",
        "    self.mood=mood\n",
        "    self.sleep_hr=sleep_hr\n",
        "    self.activity=activity\n",
        "\n",
        "# o Methods:\n",
        "#  __str__: To display the record in a user-friendly format.\n",
        "  def __str__(self):\n",
        "    return f\"{self.date} | {self.mood} | {self.sleep_hr}hr | Activity:{self.activity}\"\n",
        "person1=MentalHealthEntry(\"2024-12-08\",\"Happy\",8,\"High\" )\n",
        "person1.__str__()"
      ],
      "metadata": {
        "colab": {
          "base_uri": "https://localhost:8080/",
          "height": 35
        },
        "id": "Cr84dbpyArT1",
        "outputId": "e6da4e2c-da74-4e38-9304-b9081c18d812"
      },
      "execution_count": null,
      "outputs": [
        {
          "output_type": "execute_result",
          "data": {
            "text/plain": [
              "'2024-12-08 | Happy | 8hr | Activity:High'"
            ],
            "application/vnd.google.colaboratory.intrinsic+json": {
              "type": "string"
            }
          },
          "metadata": {},
          "execution_count": 31
        }
      ]
    },
    {
      "cell_type": "code",
      "source": [
        "# 2. Create a class MentalHealthTracker to manage multiple entries.\n",
        "# o Methods:\n",
        "#  Add Entry: Add a new mental health record.\n",
        "#  View Entries: Display all records.\n",
        "#  View by Mood: Filter and display entries with a specific mood.\n",
        "#  Calculate Average Sleep: Calculate and return the average sleep hours\n",
        "# from all entries.\n",
        "\n",
        "class MentalHealthTracker:\n",
        "  def __init__(self):\n",
        "    self.entries=[]\n",
        "\n",
        "  def add_entry(self,entry):\n",
        "    self.entries.append(entry)\n",
        "\n",
        "  def view_entries(self):\n",
        "    if not self.entries:\n",
        "      print(\"No entries available\")\n",
        "    else:\n",
        "      for entry in self.entries:\n",
        "        print(entry)\n",
        "\n",
        "  def view_by_mood(self,mood):\n",
        "    found=[entry for entry in self.entries if entry.mood.lower()==mood.lower()]\n",
        "    if not found:\n",
        "      print(f\"There is no entries in {mood}\")\n",
        "    else:\n",
        "      for entry in found:\n",
        "        print(entry)\n",
        "\n",
        "  def calculate_avg_sleep(self):\n",
        "    total=0\n",
        "    count=len(self.entries)\n",
        "    for entry in self.entries:\n",
        "      total+=entry.sleep_hr\n",
        "    avg= total/count\n",
        "    print(f\"Average Sleeping hrs: {avg}hr\")\n",
        "\n",
        "\n",
        "  def count_mood(self):\n",
        "    counts={}\n",
        "    for entry in self.entries:\n",
        "      # counts[entry.mood]=counts.get(entry.mood,0)+1\n",
        "      if entry.mood in counts:\n",
        "        counts[entry.mood]+=1\n",
        "      else:\n",
        "        counts[entry.mood]=1\n",
        "    for mood,count in counts.items():\n",
        "      print(f\"{mood} = {count}\")"
      ],
      "metadata": {
        "id": "7affPNcSEH3V"
      },
      "execution_count": null,
      "outputs": []
    },
    {
      "cell_type": "code",
      "source": [
        "system=MentalHealthTracker()\n",
        "system.add_entry(MentalHealthEntry(\"2024-12-08\",\"Happy\",9,\"High\"))\n",
        "system.add_entry(MentalHealthEntry(\"2024-12-09\",\"Anxious\",4,\"Low\"))\n",
        "system.add_entry(MentalHealthEntry(\"2024-12-10\",\"Neutral\",7,\"Medium\"))\n",
        "system.add_entry(MentalHealthEntry(\"2024-12-11\",\"Neutral\",7,\"Medium\"))\n",
        "system.add_entry(MentalHealthEntry(\"2024-12-12\",\"Sad\",5,\"Low\"))\n",
        "system.add_entry(MentalHealthEntry(\"2024-12-13\",\"Happy\",9,\"High\"))\n",
        "system.add_entry(MentalHealthEntry(\"2024-12-14\",\"Happy\",7,\"High\"))\n",
        "system.add_entry(MentalHealthEntry(\"2024-12-15\",\"Neutral\",9,\"High\"))\n",
        "system.add_entry(MentalHealthEntry(\"2024-12-16\",\"Happy\",7,\"High\"))"
      ],
      "metadata": {
        "id": "jj1vhFYDw7Ke"
      },
      "execution_count": null,
      "outputs": []
    },
    {
      "cell_type": "code",
      "source": [
        "system.view_entries()"
      ],
      "metadata": {
        "colab": {
          "base_uri": "https://localhost:8080/"
        },
        "id": "PEZ9meypw0Bg",
        "outputId": "51b25147-0f91-47d8-f681-9ed63c6875c4"
      },
      "execution_count": null,
      "outputs": [
        {
          "output_type": "stream",
          "name": "stdout",
          "text": [
            "2024-12-08 | Happy | 9hr | Activity:High\n",
            "2024-12-09 | Anxious | 4hr | Activity:Low\n",
            "2024-12-10 | Neutral | 7hr | Activity:Medium\n",
            "2024-12-11 | Neutral | 7hr | Activity:Medium\n",
            "2024-12-12 | Sad | 5hr | Activity:Low\n",
            "2024-12-13 | Happy | 9hr | Activity:High\n",
            "2024-12-14 | Happy | 7hr | Activity:High\n",
            "2024-12-15 | Neutral | 9hr | Activity:High\n",
            "2024-12-16 | Happy | 7hr | Activity:High\n"
          ]
        }
      ]
    },
    {
      "cell_type": "code",
      "source": [
        "system.calculate_avg_sleep()"
      ],
      "metadata": {
        "colab": {
          "base_uri": "https://localhost:8080/"
        },
        "id": "Spvjo3ccz7kV",
        "outputId": "87d0691d-60f7-424b-f36e-92bf40a11f78"
      },
      "execution_count": null,
      "outputs": [
        {
          "output_type": "stream",
          "name": "stdout",
          "text": [
            "Average Sleeping hrs: 7.111111111111111hr\n"
          ]
        }
      ]
    },
    {
      "cell_type": "code",
      "source": [
        "system.view_by_mood(\"Happy\")"
      ],
      "metadata": {
        "colab": {
          "base_uri": "https://localhost:8080/"
        },
        "id": "izxod66F151m",
        "outputId": "1dd52d61-2c2b-4eb0-c4cb-55cc0e1c0034"
      },
      "execution_count": null,
      "outputs": [
        {
          "output_type": "stream",
          "name": "stdout",
          "text": [
            "2024-12-08 | Happy | 9hr | Activity:High\n",
            "2024-12-13 | Happy | 9hr | Activity:High\n",
            "2024-12-14 | Happy | 7hr | Activity:High\n",
            "2024-12-16 | Happy | 7hr | Activity:High\n"
          ]
        }
      ]
    },
    {
      "cell_type": "code",
      "source": [
        "system.count_mood()"
      ],
      "metadata": {
        "colab": {
          "base_uri": "https://localhost:8080/"
        },
        "id": "Ju7t2a8C3Blv",
        "outputId": "4fb98b14-c0d0-4022-e44b-d28f2f4f83d4"
      },
      "execution_count": null,
      "outputs": [
        {
          "output_type": "stream",
          "name": "stdout",
          "text": [
            "Happy = 4\n",
            "Anxious = 1\n",
            "Neutral = 3\n",
            "Sad = 1\n"
          ]
        }
      ]
    }
  ]
}