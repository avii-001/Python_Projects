{
  "nbformat": 4,
  "nbformat_minor": 0,
  "metadata": {
    "colab": {
      "provenance": [],
      "authorship_tag": "ABX9TyM8hbhJwGiKak8a0RydjAJ3",
      "include_colab_link": true
    },
    "kernelspec": {
      "name": "python3",
      "display_name": "Python 3"
    },
    "language_info": {
      "name": "python"
    }
  },
  "cells": [
    {
      "cell_type": "markdown",
      "metadata": {
        "id": "view-in-github",
        "colab_type": "text"
      },
      "source": [
        "<a href=\"https://colab.research.google.com/github/avii-001/Python_Projects/blob/main/PrettyClick_Makeup_Management_System.ipynb\" target=\"_parent\"><img src=\"https://colab.research.google.com/assets/colab-badge.svg\" alt=\"Open In Colab\"/></a>"
      ]
    },
    {
      "cell_type": "code",
      "execution_count": null,
      "metadata": {
        "id": "wxIk1_iDkAqG",
        "colab": {
          "base_uri": "https://localhost:8080/",
          "height": 35
        },
        "outputId": "c11cc07d-fccf-4e33-bcbf-1b646bd34bf7"
      },
      "outputs": [
        {
          "output_type": "execute_result",
          "data": {
            "text/plain": [
              "'Milani (Lipstick - NPR 800 | Stock: 20)'"
            ],
            "application/vnd.google.colaboratory.intrinsic+json": {
              "type": "string"
            }
          },
          "metadata": {},
          "execution_count": 2
        }
      ],
      "source": [
        "# PrettyClick Makeup Management System\n",
        "# Scenario Description:\n",
        "# Imagine you are designing a system for PrettyClick, a popular makeup and skincare store in Nepal.\n",
        "# The system will manage makeup products, keep track of inventory, and help customers choose products based on their preferences.\n",
        "# The application should also calculate total sales for a customer and generate a bill.\n",
        "# ________________________________________\n",
        "\n",
        "\n",
        "# Problem Statement:\n",
        "# 1.\tCreate a class MakeupProduct to represent individual makeup items.\n",
        "# o\tEach product should store:\n",
        "# \tName of the product.\n",
        "# \tCategory (e.g., Lipstick, Foundation, Eyeliner).\n",
        "# \tPrice of the product.\n",
        "# \tStock (number of units available).\n",
        "\n",
        "class MakeupProduct:\n",
        "  def __init__(self, name, category, price, stock):\n",
        "    self.name=name\n",
        "    self.category=category\n",
        "    self.price=price\n",
        "    self.stock=stock\n",
        "\n",
        "  def __str__(self):\n",
        "    return f\"{self.name} ({self.category} - NPR {self.price} | Stock: {self.stock})\"\n",
        "\n",
        "  def is_available(self,quantity):\n",
        "    return self.stock>=quantity\n",
        "\n",
        "  def reduce_stock(self,quantity):\n",
        "    if self.is_available:\n",
        "      self.stock-=quantity\n",
        "    else:\n",
        "      raise ValueError(f\"Only {self.stock} units of {self.name} are available.\")\n",
        "\n",
        "\n",
        "product1=MakeupProduct(\"Milani\",\"Lipstick\",800,20)\n",
        "product1.__str__()"
      ]
    },
    {
      "cell_type": "code",
      "source": [
        "# 2.\tCreate a class PrettyClick to manage multiple makeup products.\n",
        "# o\tAllow customers to:\n",
        "# \tView available products with details.\n",
        "# \tSearch products by category (e.g., Lipstick, Skincare).\n",
        "# \tBuy products (reduce stock, calculate total).\n",
        "# o\tGenerate a bill for the customer using formatted output with f-strings.\n",
        "\n",
        "class PrettyClick:\n",
        "  def __init__(self):\n",
        "    self.products=[]\n",
        "\n",
        "  def add_product(self,product):\n",
        "    self.products.append(product)\n",
        "\n",
        "  def view_products(self):\n",
        "    if not self.products:\n",
        "      print(\"No products available\")\n",
        "    else:\n",
        "      print(\"All Available Products\")\n",
        "      for product in self.products:\n",
        "        print(product)\n",
        "    print()\n",
        "\n",
        "\n",
        "  def search_product_by_category(self,category):\n",
        "    found =[product for product in self.products if product.category==category]\n",
        "    if not found:\n",
        "      print(f\"No products found in the category '{self.category}'\")\n",
        "    else:\n",
        "      print(f\"Products in category\")\n",
        "      for product in found:\n",
        "        print(product)\n",
        "\n",
        "  def buy_products(self, name,quantity):\n",
        "    for product in self.products:\n",
        "      if product.name.lower()==name.lower():        # cant do product[name] coz its not dict- its an object\n",
        "        if product.is_available(quantity):\n",
        "          product.reduce_stock(quantity)\n",
        "          print(f\"Purchased {quantity} * {product.name}.\")\n",
        "          return product.price*quantity\n",
        "        else:\n",
        "          print(f\"Not enough stock for {product.name}\")\n",
        "          return 0\n",
        "    print(f\"Product '{name}' not found\")\n",
        "\n",
        "  def generate_bill(self,purchases):\n",
        "    print(\"\\n-------PrettyClick Store\")\n",
        "    total=0\n",
        "    for name,quantity in purchases.items():\n",
        "      cost=self.buy_products(name,quantity)\n",
        "      if cost>0:\n",
        "        total+=cost\n",
        "    print(f\"Customer your Total Amount: NPR {total}\\n\")\n",
        "    print(\"Thank you for shopping with us!\")\n",
        "    print(\"----- PrettyClick Store\")\n",
        "\n",
        "\n",
        "store=PrettyClick()\n",
        "store.add_product(MakeupProduct(\"Maybelline SuperStay Lipstick\", \"Lipstick\", 1200, 15))\n",
        "store.add_product(MakeupProduct(\"L'Oréal Paris True Match Foundation\", \"Foundation\", 1800, 10))\n",
        "store.add_product(MakeupProduct(\"Lakme Absolute Shine Eyeliner\", \"Eyeliner\", 400, 20))\n",
        "store.add_product(MakeupProduct(\"Neutrogena Hydro Boost Gel Cream\", \"Skincare\", 2500, 8))\n",
        "store.add_product(MakeupProduct(\"The Ordinary Niacinamide Serum\", \"Skincare\", 2300, 12))\n",
        "store.add_product(MakeupProduct(\"Revlon Ultra HD Matte Lipcolor\", \"Lipstick\", 1300, 18))\n",
        "store.add_product(MakeupProduct(\"MAC Studio Fix Fluid Foundation\", \"Foundation\", 4200, 6))\n",
        "store.add_product(MakeupProduct(\"Himalaya Purifying Neem Face Wash\", \"Skincare\", 350, 25))\n",
        "store.add_product(MakeupProduct(\"Garnier Bright Complete Vitamin C Serum\", \"Skincare\", 900, 20))\n",
        "store.add_product(MakeupProduct(\"Wet n Wild MegaGlow Highlighter\", \"Highlighter\", 600, 14))\n",
        "\n",
        "store.view_products()"
      ],
      "metadata": {
        "colab": {
          "base_uri": "https://localhost:8080/"
        },
        "id": "Rm-5L71wvHZK",
        "outputId": "f75650e9-dcb2-4635-9a5d-7a2c04e4353e"
      },
      "execution_count": null,
      "outputs": [
        {
          "output_type": "stream",
          "name": "stdout",
          "text": [
            "All Available Products\n",
            "Maybelline SuperStay Lipstick (Lipstick - NPR 1200 | Stock: 15)\n",
            "L'Oréal Paris True Match Foundation (Foundation - NPR 1800 | Stock: 10)\n",
            "Lakme Absolute Shine Eyeliner (Eyeliner - NPR 400 | Stock: 20)\n",
            "Neutrogena Hydro Boost Gel Cream (Skincare - NPR 2500 | Stock: 8)\n",
            "The Ordinary Niacinamide Serum (Skincare - NPR 2300 | Stock: 12)\n",
            "Revlon Ultra HD Matte Lipcolor (Lipstick - NPR 1300 | Stock: 18)\n",
            "MAC Studio Fix Fluid Foundation (Foundation - NPR 4200 | Stock: 6)\n",
            "Himalaya Purifying Neem Face Wash (Skincare - NPR 350 | Stock: 25)\n",
            "Garnier Bright Complete Vitamin C Serum (Skincare - NPR 900 | Stock: 20)\n",
            "Wet n Wild MegaGlow Highlighter (Highlighter - NPR 600 | Stock: 14)\n",
            "\n"
          ]
        }
      ]
    },
    {
      "cell_type": "code",
      "source": [
        "# 3.\tEnsure all functionalities are implemented using Object-Oriented Programming (OOP) principles.\n",
        "# ________________________________________\n",
        "# Scenario Details:\n",
        "# Functionalities:\n",
        "# 1.\tView Products:\n",
        "# o\tDisplay all products with their name, category, price, and stock.\n",
        "# 2.\tSearch by Category:\n",
        "# o\tFilter and display products from a specific category.\n",
        "# 3.\tPurchase Products:\n",
        "# o\tAllow customers to select multiple products, reduce stock, and calculate the total bill.\n",
        "# 4.\tGenerate Bill:\n",
        "# o\tDisplay a detailed bill including the total amount.\n",
        "\n",
        "store.view_products()\n",
        "\n",
        "store.search_product_by_category(\"Lipstick\")\n",
        "purchases = {\"Lakme Absolute Shine Eyeliner\":2, \"Himalaya Purifying Neem Face Wash\": 3, \"Wet n Wild MegaGlow Highlighter\": 1}\n",
        "store.generate_bill(purchases)"
      ],
      "metadata": {
        "id": "4u00EFLHvKNV",
        "colab": {
          "base_uri": "https://localhost:8080/"
        },
        "outputId": "199e367e-5113-4ab1-8275-1d566617cb67"
      },
      "execution_count": null,
      "outputs": [
        {
          "output_type": "stream",
          "name": "stdout",
          "text": [
            "All Available Products\n",
            "Maybelline SuperStay Lipstick (Lipstick - NPR 1200 | Stock: 15)\n",
            "L'Oréal Paris True Match Foundation (Foundation - NPR 1800 | Stock: 10)\n",
            "Lakme Absolute Shine Eyeliner (Eyeliner - NPR 400 | Stock: 20)\n",
            "Neutrogena Hydro Boost Gel Cream (Skincare - NPR 2500 | Stock: 8)\n",
            "The Ordinary Niacinamide Serum (Skincare - NPR 2300 | Stock: 12)\n",
            "Revlon Ultra HD Matte Lipcolor (Lipstick - NPR 1300 | Stock: 18)\n",
            "MAC Studio Fix Fluid Foundation (Foundation - NPR 4200 | Stock: 6)\n",
            "Himalaya Purifying Neem Face Wash (Skincare - NPR 350 | Stock: 25)\n",
            "Garnier Bright Complete Vitamin C Serum (Skincare - NPR 900 | Stock: 20)\n",
            "Wet n Wild MegaGlow Highlighter (Highlighter - NPR 600 | Stock: 14)\n",
            "\n",
            "Products in category\n",
            "Maybelline SuperStay Lipstick (Lipstick - NPR 1200 | Stock: 15)\n",
            "Revlon Ultra HD Matte Lipcolor (Lipstick - NPR 1300 | Stock: 18)\n",
            "\n",
            "-------PrettyClick Store\n",
            "Purchased 2 * Lakme Absolute Shine Eyeliner.\n",
            "Purchased 3 * Himalaya Purifying Neem Face Wash.\n",
            "Purchased 1 * Wet n Wild MegaGlow Highlighter.\n",
            "Customer your Total Amount: NPR 2450\n",
            "\n",
            "Thank you for shopping with us!\n",
            "----- PrettyClick Store\n"
          ]
        }
      ]
    },
    {
      "cell_type": "code",
      "source": [],
      "metadata": {
        "id": "UPdBiECeRb37"
      },
      "execution_count": null,
      "outputs": []
    }
  ]
}